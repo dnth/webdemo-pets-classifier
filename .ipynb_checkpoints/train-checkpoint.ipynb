{
 "cells": [
  {
   "cell_type": "code",
   "execution_count": null,
   "id": "311970df-d109-452d-a843-c31048daf6e3",
   "metadata": {},
   "outputs": [],
   "source": [
    "from fastai.vision.all import *\n",
    "path = untar_data(URLs.PETS)\n",
    "dls = ImageDataLoaders.from_name_re(path, get_image_files(path/'images'), pat='(.+)_\\d+.jpg', item_tfms=Resize(460), batch_tfms=aug_transforms(size=224, min_scale=0.75), bs=128)\n",
    "learn = cnn_learner(dls, models.resnet50, metrics=accuracy)\n",
    "learn.fine_tune(5)\n",
    "learn.path = Path('.')\n",
    "learn.export()"
   ]
  },
  {
   "cell_type": "code",
   "execution_count": null,
   "id": "ef4ffc95-6051-4354-af16-25477b279657",
   "metadata": {},
   "outputs": [],
   "source": [
    "learn = load_learner('export.pkl')"
   ]
  },
  {
   "cell_type": "code",
   "execution_count": null,
   "id": "49289d4b-7e8c-4264-bb03-8a0d851caf1c",
   "metadata": {},
   "outputs": [],
   "source": [
    "labels = learn.dls.vocab\n",
    "def predict(img):\n",
    "    img = PILImage.create(img)\n",
    "    pred,pred_idx,probs = learn.predict(img)\n",
    "    return {labels[i]: float(probs[i]) for i in range(len(labels))}"
   ]
  },
  {
   "cell_type": "code",
   "execution_count": 2,
   "id": "a6b53fe8-ded5-4048-afd7-e488dc884aec",
   "metadata": {},
   "outputs": [
    {
     "name": "stdout",
     "output_type": "stream",
     "text": [
      "american_pit_bull_terrier_52.jpg\n",
      "staffordshire_bull_terrier_129.jpg\n",
      "wheaten_terrier_138.jpg\n",
      "staffordshire_bull_terrier_172.jpg\n",
      "yorkshire_terrier_189.jpg\n",
      "Abyssinian_67.jpg\n",
      "basset_hound_12.jpg\n",
      "american_bulldog_24.jpg\n",
      "beagle_120.jpg\n",
      "staffordshire_bull_terrier_173.jpg\n",
      "beagle_125.jpg\n",
      "Bengal_21.jpg\n",
      "basset_hound_17.jpg\n",
      "staffordshire_bull_terrier_130.jpg\n",
      "Abyssinian_7.jpg\n",
      "american_bulldog_83.jpg\n",
      "Birman_103.jpg\n",
      "Bengal_19.jpg\n",
      "american_pit_bull_terrier_76.jpg\n",
      "yorkshire_terrier_196.jpg\n",
      "wheaten_terrier_137.jpg\n"
     ]
    }
   ],
   "source": [
    "import os\n",
    "for root, dirs, files in os.walk(r'sample_image/'):\n",
    "    for filename in files:\n",
    "        print(filename)"
   ]
  },
  {
   "cell_type": "code",
   "execution_count": null,
   "id": "62fe5dc0-5fd1-4cc7-af8d-a325e3915173",
   "metadata": {},
   "outputs": [],
   "source": [
    "import gradio as gr\n",
    "\n",
    "title = \"Pet Breed Classifier\"\n",
    "description = \"A pet breed classifier trained on the Oxford Pets dataset\"\n",
    "interpretation='default'\n",
    "# examples = ['siamese.jpg', 'kitten.jpg']\n",
    "examples = files\n",
    "article=\"<p style='text-align: center'><a href='https://dicksonneoh.com' target='_blank'>Blog post</a></p>\"\n",
    "enable_queue=True\n",
    "\n",
    "gr.Interface(fn=predict,inputs=gr.inputs.Image(shape=(512, 512)),outputs=gr.outputs.Label(num_top_classes=3),title=title,description=description,article=article,examples=examples,interpretation=interpretation,enable_queue=enable_queue).launch(share=True)\n"
   ]
  },
  {
   "cell_type": "code",
   "execution_count": null,
   "id": "65162304-6635-4cfb-95e1-cf12ceba09f4",
   "metadata": {},
   "outputs": [],
   "source": []
  }
 ],
 "metadata": {
  "kernelspec": {
   "display_name": "Python 3 (ipykernel)",
   "language": "python",
   "name": "python3"
  },
  "language_info": {
   "codemirror_mode": {
    "name": "ipython",
    "version": 3
   },
   "file_extension": ".py",
   "mimetype": "text/x-python",
   "name": "python",
   "nbconvert_exporter": "python",
   "pygments_lexer": "ipython3",
   "version": "3.8.12"
  }
 },
 "nbformat": 4,
 "nbformat_minor": 5
}
